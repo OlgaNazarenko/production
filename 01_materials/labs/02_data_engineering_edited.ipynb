{
 "cells": [
  {
   "cell_type": "code",
   "execution_count": 1,
   "metadata": {},
   "outputs": [],
   "source": [
    "%load_ext dotenv\n",
    "%dotenv "
   ]
  },
  {
   "cell_type": "markdown",
   "metadata": {},
   "source": [
    "# What are we doing?\n",
    "\n",
    "## Objectives \n",
    "\n",
    "\n",
    "* Build a data pipeline that downloads price data from the internet, stores it locally, transforms it into return data, and stores the feature set.\n",
    "    - Getting the data.\n",
    "    - Schemas and index in dask.\n",
    "\n",
    "* Explore the parquet format.\n",
    "    - Reading and writing parquet files.\n",
    "    - Read datasets that are stored in distributed files.\n",
    "    - Discuss dask vs pandas as a small example of big vs small data.\n",
    "    \n",
    "* Discuss the use of environment variables for settings.\n",
    "* Discuss how to use Jupyter notebooks and source code concurrently. \n",
    "* Logging and using a standard logger.\n",
    "\n",
    "## About the Data\n",
    "\n",
    "+ We will download the prices for a list of stocks.\n",
    "+ The source is Yahoo Finance and we will use the API provided by the library yfinance.\n",
    "\n",
    "\n",
    "## Medallion Architecture\n",
    "\n",
    "+ The architecture that we are thinking about is called Medallion by [DataBricks](https://www.databricks.com/glossary/medallion-architecture). It is an ELT type of thinking, although our data is well-structured.\n",
    "\n",
    "![Medallion Architecture (DataBicks)](./images/02_medallion_architecture.png)\n",
    "\n",
    "+ In our case, we would like to optimize the number of times that we download data from the internet. \n",
    "+ Ultimately, we will build a pipeline manager class that will help us control the process of obtaining and transforming our data.\n",
    "\n",
    "![](./images/02_target_pipeline_manager.png)"
   ]
  },
  {
   "cell_type": "markdown",
   "metadata": {},
   "source": [
    "# Download Data\n",
    "\n",
    "Download the [Stock Market Dataset from Kaggle](https://www.kaggle.com/datasets/jacksoncrow/stock-market-dataset). Note that you may be required to register for a free account.\n",
    "\n",
    "Extract all files into the directory: `./05_src/data/prices_csv/`\n",
    "\n",
    "Your folder structure should include the following paths:\n",
    "\n",
    "+ `05_src/data/prices_csv/etfs`\n",
    "+ `05_src/data/prices_csv/stocks`\n"
   ]
  },
  {
   "cell_type": "code",
   "execution_count": 2,
   "metadata": {},
   "outputs": [],
   "source": [
    "import pandas as pd\n",
    "import os\n",
    "import sys\n",
    "from glob import glob\n",
    "\n",
    "sys.path.append(os.getenv('SRC_DIR'))\n",
    "\n",
    "from utils.logger import get_logger\n",
    "_logs = get_logger(__name__)"
   ]
  },
  {
   "cell_type": "markdown",
   "metadata": {},
   "source": [
    "A few things to notice in the code chunk above:\n",
    "\n",
    "+ Libraries are ordered from high-level to low-level libraries from the package manager (pip in this case, but could be conda, poetry, etc.)\n",
    "+ The command `sys.path.append(\"../05_src/)` will add the `../05_src/` directory to the path in the Notebook's kernel. This way, we can use our modules as part of the notebook.\n",
    "+ Local modules are imported at the end. \n",
    "+ The function `get_logger()` is called with `__name__` as recommended by the documentation."
   ]
  },
  {
   "cell_type": "markdown",
   "metadata": {},
   "source": [
    "Now, to load the historical price data for stocks and ETFs, we could use:"
   ]
  },
  {
   "cell_type": "code",
   "execution_count": 3,
   "metadata": {},
   "outputs": [
    {
     "name": "stderr",
     "output_type": "stream",
     "text": [
      "2025-09-25 18:16:30,013, 4121356139.py, 10, INFO, Reading file: ../../05_src/data/prices_csv/stocks/HCM.csv\n",
      "2025-09-25 18:16:30,023, 4121356139.py, 10, INFO, Reading file: ../../05_src/data/prices_csv/stocks/ATHM.csv\n",
      "2025-09-25 18:16:30,026, 4121356139.py, 10, INFO, Reading file: ../../05_src/data/prices_csv/stocks/RILYP.csv\n",
      "2025-09-25 18:16:30,027, 4121356139.py, 10, INFO, Reading file: ../../05_src/data/prices_csv/stocks/ALDX.csv\n",
      "2025-09-25 18:16:30,030, 4121356139.py, 10, INFO, Reading file: ../../05_src/data/prices_csv/stocks/JHG.csv\n",
      "2025-09-25 18:16:30,032, 4121356139.py, 10, INFO, Reading file: ../../05_src/data/prices_csv/stocks/CHRS.csv\n",
      "2025-09-25 18:16:30,036, 4121356139.py, 10, INFO, Reading file: ../../05_src/data/prices_csv/stocks/BKTI.csv\n",
      "2025-09-25 18:16:30,046, 4121356139.py, 10, INFO, Reading file: ../../05_src/data/prices_csv/stocks/REFR.csv\n",
      "2025-09-25 18:16:30,052, 4121356139.py, 10, INFO, Reading file: ../../05_src/data/prices_csv/stocks/KEN.csv\n",
      "2025-09-25 18:16:30,054, 4121356139.py, 10, INFO, Reading file: ../../05_src/data/prices_csv/stocks/MDRRP.csv\n",
      "2025-09-25 18:16:30,056, 4121356139.py, 10, INFO, Reading file: ../../05_src/data/prices_csv/stocks/GRF.csv\n",
      "2025-09-25 18:16:30,060, 4121356139.py, 10, INFO, Reading file: ../../05_src/data/prices_csv/stocks/KRC.csv\n",
      "2025-09-25 18:16:30,065, 4121356139.py, 10, INFO, Reading file: ../../05_src/data/prices_csv/stocks/MICT.csv\n",
      "2025-09-25 18:16:30,068, 4121356139.py, 10, INFO, Reading file: ../../05_src/data/prices_csv/stocks/AMPY.csv\n",
      "2025-09-25 18:16:30,071, 4121356139.py, 10, INFO, Reading file: ../../05_src/data/prices_csv/stocks/A.csv\n",
      "2025-09-25 18:16:30,076, 4121356139.py, 10, INFO, Reading file: ../../05_src/data/prices_csv/stocks/WRLSU.csv\n",
      "2025-09-25 18:16:30,077, 4121356139.py, 10, INFO, Reading file: ../../05_src/data/prices_csv/stocks/PNR.csv\n",
      "2025-09-25 18:16:30,088, 4121356139.py, 10, INFO, Reading file: ../../05_src/data/prices_csv/stocks/TERP.csv\n",
      "2025-09-25 18:16:30,090, 4121356139.py, 10, INFO, Reading file: ../../05_src/data/prices_csv/stocks/TMSR.csv\n",
      "2025-09-25 18:16:30,092, 4121356139.py, 10, INFO, Reading file: ../../05_src/data/prices_csv/stocks/TDJ.csv\n",
      "2025-09-25 18:16:30,095, 4121356139.py, 10, INFO, Reading file: ../../05_src/data/prices_csv/stocks/CIK.csv\n",
      "2025-09-25 18:16:30,102, 4121356139.py, 10, INFO, Reading file: ../../05_src/data/prices_csv/stocks/SMBC.csv\n",
      "2025-09-25 18:16:30,108, 4121356139.py, 10, INFO, Reading file: ../../05_src/data/prices_csv/stocks/CNSP.csv\n",
      "2025-09-25 18:16:30,110, 4121356139.py, 10, INFO, Reading file: ../../05_src/data/prices_csv/stocks/BLK.csv\n",
      "2025-09-25 18:16:30,115, 4121356139.py, 10, INFO, Reading file: ../../05_src/data/prices_csv/stocks/CLNC.csv\n",
      "2025-09-25 18:16:30,116, 4121356139.py, 10, INFO, Reading file: ../../05_src/data/prices_csv/stocks/AOSL.csv\n",
      "2025-09-25 18:16:30,119, 4121356139.py, 10, INFO, Reading file: ../../05_src/data/prices_csv/stocks/LYV.csv\n",
      "2025-09-25 18:16:30,124, 4121356139.py, 10, INFO, Reading file: ../../05_src/data/prices_csv/stocks/IX.csv\n",
      "2025-09-25 18:16:30,129, 4121356139.py, 10, INFO, Reading file: ../../05_src/data/prices_csv/stocks/AWRE.csv\n",
      "2025-09-25 18:16:30,134, 4121356139.py, 10, INFO, Reading file: ../../05_src/data/prices_csv/stocks/KNX.csv\n",
      "2025-09-25 18:16:30,140, 4121356139.py, 10, INFO, Reading file: ../../05_src/data/prices_csv/stocks/TRXC.csv\n",
      "2025-09-25 18:16:30,145, 4121356139.py, 10, INFO, Reading file: ../../05_src/data/prices_csv/stocks/CVCY.csv\n",
      "2025-09-25 18:16:30,150, 4121356139.py, 10, INFO, Reading file: ../../05_src/data/prices_csv/stocks/UVE.csv\n",
      "2025-09-25 18:16:30,155, 4121356139.py, 10, INFO, Reading file: ../../05_src/data/prices_csv/stocks/HCKT.csv\n",
      "2025-09-25 18:16:30,160, 4121356139.py, 10, INFO, Reading file: ../../05_src/data/prices_csv/stocks/TFSL.csv\n",
      "2025-09-25 18:16:30,164, 4121356139.py, 10, INFO, Reading file: ../../05_src/data/prices_csv/stocks/ACB.csv\n",
      "2025-09-25 18:16:30,169, 4121356139.py, 10, INFO, Reading file: ../../05_src/data/prices_csv/stocks/AXP.csv\n",
      "2025-09-25 18:16:30,179, 4121356139.py, 10, INFO, Reading file: ../../05_src/data/prices_csv/stocks/GLG.csv\n",
      "2025-09-25 18:16:30,182, 4121356139.py, 10, INFO, Reading file: ../../05_src/data/prices_csv/stocks/MFO.csv\n",
      "2025-09-25 18:16:30,185, 4121356139.py, 10, INFO, Reading file: ../../05_src/data/prices_csv/stocks/PCB.csv\n",
      "2025-09-25 18:16:30,188, 4121356139.py, 10, INFO, Reading file: ../../05_src/data/prices_csv/stocks/IPDN.csv\n",
      "2025-09-25 18:16:30,190, 4121356139.py, 10, INFO, Reading file: ../../05_src/data/prices_csv/stocks/DTW.csv\n",
      "2025-09-25 18:16:30,193, 4121356139.py, 10, INFO, Reading file: ../../05_src/data/prices_csv/stocks/IQV.csv\n",
      "2025-09-25 18:16:30,195, 4121356139.py, 10, INFO, Reading file: ../../05_src/data/prices_csv/stocks/EVRI.csv\n",
      "2025-09-25 18:16:30,199, 4121356139.py, 10, INFO, Reading file: ../../05_src/data/prices_csv/stocks/LIVE.csv\n",
      "2025-09-25 18:16:30,204, 4121356139.py, 10, INFO, Reading file: ../../05_src/data/prices_csv/stocks/KZR.csv\n",
      "2025-09-25 18:16:30,205, 4121356139.py, 10, INFO, Reading file: ../../05_src/data/prices_csv/stocks/SO.csv\n",
      "2025-09-25 18:16:30,214, 4121356139.py, 10, INFO, Reading file: ../../05_src/data/prices_csv/stocks/INFY.csv\n",
      "2025-09-25 18:16:30,219, 4121356139.py, 10, INFO, Reading file: ../../05_src/data/prices_csv/stocks/BSE.csv\n",
      "2025-09-25 18:16:30,223, 4121356139.py, 10, INFO, Reading file: ../../05_src/data/prices_csv/stocks/PSN.csv\n",
      "2025-09-25 18:16:30,225, 4121356139.py, 10, INFO, Reading file: ../../05_src/data/prices_csv/stocks/TNAV.csv\n",
      "2025-09-25 18:16:30,228, 4121356139.py, 10, INFO, Reading file: ../../05_src/data/prices_csv/stocks/APTX.csv\n",
      "2025-09-25 18:16:30,230, 4121356139.py, 10, INFO, Reading file: ../../05_src/data/prices_csv/stocks/LAZY.csv\n",
      "2025-09-25 18:16:30,232, 4121356139.py, 10, INFO, Reading file: ../../05_src/data/prices_csv/stocks/DK.csv\n",
      "2025-09-25 18:16:30,235, 4121356139.py, 10, INFO, Reading file: ../../05_src/data/prices_csv/stocks/ZEUS.csv\n",
      "2025-09-25 18:16:30,241, 4121356139.py, 10, INFO, Reading file: ../../05_src/data/prices_csv/stocks/IRBT.csv\n",
      "2025-09-25 18:16:30,245, 4121356139.py, 10, INFO, Reading file: ../../05_src/data/prices_csv/stocks/AMAT.csv\n",
      "2025-09-25 18:16:30,254, 4121356139.py, 10, INFO, Reading file: ../../05_src/data/prices_csv/stocks/PSB.csv\n",
      "2025-09-25 18:16:30,261, 4121356139.py, 10, INFO, Reading file: ../../05_src/data/prices_csv/stocks/CTSO.csv\n",
      "2025-09-25 18:16:30,264, 4121356139.py, 10, INFO, Reading file: ../../05_src/data/prices_csv/stocks/UEC.csv\n"
     ]
    }
   ],
   "source": [
    "import random\n",
    "\n",
    "stock_files = glob(os.path.join(os.getenv('SRC_DIR'), \"data/prices_csv/stocks/*.csv\"))\n",
    "\n",
    "random.seed(42)\n",
    "stock_files = random.sample(stock_files, 60)\n",
    "\n",
    "dt_list = []\n",
    "for s_file in stock_files:\n",
    "    _logs.info(f\"Reading file: {s_file}\")\n",
    "    dt = pd.read_csv(s_file).assign(\n",
    "        source = os.path.basename(s_file),\n",
    "        ticker = os.path.basename(s_file).replace('.csv', ''),\n",
    "        Date = lambda x: pd.to_datetime(x['Date'])\n",
    "    )\n",
    "    dt_list.append(dt)\n",
    "stock_prices = pd.concat(dt_list, axis = 0, ignore_index = True)\n",
    "\n"
   ]
  },
  {
   "cell_type": "markdown",
   "metadata": {},
   "source": [
    "Verify the structure of the `stock_prices` data:"
   ]
  },
  {
   "cell_type": "code",
   "execution_count": 4,
   "metadata": {},
   "outputs": [
    {
     "name": "stdout",
     "output_type": "stream",
     "text": [
      "<class 'pandas.core.frame.DataFrame'>\n",
      "RangeIndex: 230273 entries, 0 to 230272\n",
      "Data columns (total 9 columns):\n",
      " #   Column     Non-Null Count   Dtype         \n",
      "---  ------     --------------   -----         \n",
      " 0   Date       230273 non-null  datetime64[ns]\n",
      " 1   Open       230260 non-null  float64       \n",
      " 2   High       230260 non-null  float64       \n",
      " 3   Low        230260 non-null  float64       \n",
      " 4   Close      230260 non-null  float64       \n",
      " 5   Adj Close  230260 non-null  float64       \n",
      " 6   Volume     230260 non-null  float64       \n",
      " 7   source     230273 non-null  object        \n",
      " 8   ticker     230273 non-null  object        \n",
      "dtypes: datetime64[ns](1), float64(6), object(2)\n",
      "memory usage: 15.8+ MB\n"
     ]
    }
   ],
   "source": [
    "stock_prices.info()"
   ]
  },
  {
   "cell_type": "markdown",
   "metadata": {},
   "source": [
    "We can subset our ticker data set using standard indexing techniques. A good reference for this type of data manipulation is Panda's [Documentation](https://pandas.pydata.org/docs/user_guide/indexing.html#indexing-and-selecting-data) and [Cookbook](https://pandas.pydata.org/docs/user_guide/cookbook.html#cookbook-selection)."
   ]
  },
  {
   "cell_type": "markdown",
   "metadata": {},
   "source": [
    "From the subset data frame, select one column and convert to list."
   ]
  },
  {
   "cell_type": "code",
   "execution_count": 5,
   "metadata": {},
   "outputs": [
    {
     "data": {
      "text/plain": [
       "['HCM',\n",
       " 'ATHM',\n",
       " 'RILYP',\n",
       " 'ALDX',\n",
       " 'JHG',\n",
       " 'CHRS',\n",
       " 'BKTI',\n",
       " 'REFR',\n",
       " 'KEN',\n",
       " 'MDRRP',\n",
       " 'GRF',\n",
       " 'KRC',\n",
       " 'MICT',\n",
       " 'AMPY',\n",
       " 'A',\n",
       " 'WRLSU',\n",
       " 'PNR',\n",
       " 'TERP',\n",
       " 'TMSR',\n",
       " 'TDJ',\n",
       " 'CIK',\n",
       " 'SMBC',\n",
       " 'CNSP',\n",
       " 'BLK',\n",
       " 'CLNC',\n",
       " 'AOSL',\n",
       " 'LYV',\n",
       " 'IX',\n",
       " 'AWRE',\n",
       " 'KNX',\n",
       " 'TRXC',\n",
       " 'CVCY',\n",
       " 'UVE',\n",
       " 'HCKT',\n",
       " 'TFSL',\n",
       " 'ACB',\n",
       " 'AXP',\n",
       " 'GLG',\n",
       " 'MFO',\n",
       " 'PCB',\n",
       " 'IPDN',\n",
       " 'DTW',\n",
       " 'IQV',\n",
       " 'EVRI',\n",
       " 'LIVE',\n",
       " 'KZR',\n",
       " 'SO',\n",
       " 'INFY',\n",
       " 'BSE',\n",
       " 'PSN',\n",
       " 'TNAV',\n",
       " 'APTX',\n",
       " 'LAZY',\n",
       " 'DK',\n",
       " 'ZEUS',\n",
       " 'IRBT',\n",
       " 'AMAT',\n",
       " 'PSB',\n",
       " 'CTSO',\n",
       " 'UEC']"
      ]
     },
     "execution_count": 5,
     "metadata": {},
     "output_type": "execute_result"
    }
   ],
   "source": [
    "select_tickers = stock_prices['ticker'].unique().tolist()\n",
    "select_tickers"
   ]
  },
  {
   "cell_type": "markdown",
   "metadata": {},
   "source": [
    "# Storing Data in CSV\n",
    "\n"
   ]
  },
  {
   "cell_type": "markdown",
   "metadata": {},
   "source": [
    "+ We have some data. How do we store it?\n",
    "+ We can compare two options, CSV and Parqruet, by measuring their performance:\n",
    "\n",
    "    - Time to save.\n",
    "    - Space required."
   ]
  },
  {
   "cell_type": "code",
   "execution_count": 6,
   "metadata": {},
   "outputs": [],
   "source": [
    "def get_dir_size(path='.'):\n",
    "    '''Returns the total size of files contained in path.'''\n",
    "    total = 0\n",
    "    with os.scandir(path) as it:\n",
    "        for entry in it:\n",
    "            if entry.is_file():\n",
    "                total += entry.stat().st_size\n",
    "            elif entry.is_dir():\n",
    "                total += get_dir_size(entry.path)\n",
    "    return total"
   ]
  },
  {
   "cell_type": "code",
   "execution_count": 7,
   "metadata": {},
   "outputs": [],
   "source": [
    "import time\n",
    "import shutil"
   ]
  },
  {
   "cell_type": "code",
   "execution_count": 8,
   "metadata": {},
   "outputs": [],
   "source": [
    "temp = os.getenv(\"TEMP_DATA\")\n",
    "csv_dir = os.path.join(temp, \"csv\")\n",
    "shutil.rmtree(csv_dir, ignore_errors=True)\n",
    "stock_csv = os.path.join(csv_dir, \"stock_px.csv\")\n",
    "os.makedirs(csv_dir, exist_ok=True) # to create an entire file path"
   ]
  },
  {
   "cell_type": "code",
   "execution_count": 9,
   "metadata": {},
   "outputs": [
    {
     "name": "stderr",
     "output_type": "stream",
     "text": [
      "2025-09-25 18:16:31,309, 473192941.py, 5, INFO, Writing data ((230273, 9)) to csv took 0.9908127784729004 seconds.\n",
      "2025-09-25 18:16:31,310, 473192941.py, 6, INFO, CSV file size 25.944855999999998 MB\n"
     ]
    }
   ],
   "source": [
    "\n",
    "start = time.time()\n",
    "stock_prices.to_csv(stock_csv, index = False)\n",
    "end = time.time()\n",
    "\n",
    "_logs.info(f'Writing data ({stock_prices.shape}) to csv took {end - start} seconds.')\n",
    "_logs.info(f'CSV file size { os.path.getsize(stock_csv)*1e-6 } MB')"
   ]
  },
  {
   "cell_type": "markdown",
   "metadata": {},
   "source": [
    "## Save Data to Parquet\n",
    "\n",
    "### Dask \n",
    "\n",
    "We can work with with large data sets and parquet files. In fact, recent versions of pandas support pyarrow data types and future versions will require a pyarrow backend. The pyarrow library is an interface between Python and the Appache Arrow project. The [parquet data format](https://parquet.apache.org/) and [Arrow](https://arrow.apache.org/docs/python/parquet.html) are projects of the Apache Foundation.\n",
    "\n",
    "However, Dask is much more than an interface to Arrow: Dask provides parallel and distributed computing on pandas-like dataframes. It is also relatively easy to use, bridging a gap between pandas and Spark. "
   ]
  },
  {
   "cell_type": "code",
   "execution_count": 10,
   "metadata": {},
   "outputs": [],
   "source": [
    "import dask.dataframe as dd\n",
    "\n",
    "parquet_dir = os.path.join(temp, \"parquet\")\n",
    "shutil.rmtree(parquet_dir, ignore_errors=True)\n",
    "os.makedirs(parquet_dir, exist_ok=True)"
   ]
  },
  {
   "cell_type": "code",
   "execution_count": 11,
   "metadata": {},
   "outputs": [
    {
     "name": "stderr",
     "output_type": "stream",
     "text": [
      "2025-09-25 18:16:32,122, 817812245.py, 7, INFO, Writing dd ((230273, 9)) to parquet took 0.3425731658935547 seconds.\n",
      "2025-09-25 18:16:32,123, 817812245.py, 8, INFO, Parquet file size 8.937065 MB\n"
     ]
    }
   ],
   "source": [
    "px_dd = dd.from_pandas(stock_prices, npartitions = len(select_tickers))\n",
    "\n",
    "start = time.time()\n",
    "px_dd.to_parquet(parquet_dir, engine = \"pyarrow\")\n",
    "end = time.time()\n",
    "\n",
    "_logs.info(f'Writing dd ({stock_prices.shape}) to parquet took {end - start} seconds.')\n",
    "_logs.info(f'Parquet file size { get_dir_size(parquet_dir)*1e-6 } MB')"
   ]
  },
  {
   "cell_type": "markdown",
   "metadata": {},
   "source": [
    "### Parquet files and Dask Dataframes\n",
    "\n",
    "+ Parquet files are immutable: once written, they cannot be modified.\n",
    "+ Dask DataFrames are a useful implementation to manipulate data stored in parquets.\n",
    "+ Parquet and Dask are not the same: parquet is a file format that can be accessed by many applications and programming languages (Python, R, PowerBI, etc.), while Dask is a package in Python to work with large datasets using distributed computation.\n",
    "+ **Dask is not for everything** (see [Dask DataFrames Best Practices](https://docs.dask.org/en/stable/dataframe-best-practices.html)). \n",
    "\n",
    "    - Consider cases suchas small to large joins, where the small dataframe fits in memory, but the large one does not. \n",
    "    - If possible, use pandas: reduce, then use pandas.\n",
    "    - Pandas performance tips apply to Dask.\n",
    "    - Use the index: it is beneficial to have a well-defined index in Dask DataFrames, as it may speed up searching (filtering) the data. A one-dimensional index is allowed.\n",
    "    - Avoid (or minimize) full-data shuffling: indexing is an expensive operations. \n",
    "    - Some joins are more expensive than others. \n",
    "\n",
    "        * Not expensive:\n",
    "\n",
    "            - Join a Dask DataFrame with a pandas DataFrame.\n",
    "            - Join a Dask DataFrame with another Dask DataFrame of a single partition.\n",
    "            - Join Dask DataFrames along their indexes.\n",
    "\n",
    "        * Expensive:\n",
    "\n",
    "            - Join Dask DataFrames along columns that are not their index.\n"
   ]
  },
  {
   "cell_type": "markdown",
   "metadata": {},
   "source": [
    "# How do we store prices?\n",
    "\n",
    "+ We can store our data as a single blob. This can be difficult to maintain, especially because parquet files are immutable.\n",
    "+ Strategy: organize data files by ticker and date. Update only latest month.\n",
    "\n"
   ]
  },
  {
   "cell_type": "code",
   "execution_count": 12,
   "metadata": {},
   "outputs": [],
   "source": [
    "# CLean up before start\n",
    "PRICE_DATA = os.getenv(\"PRICE_DATA\")\n",
    "import shutil\n",
    "if os.path.exists(PRICE_DATA):\n",
    "    shutil.rmtree(PRICE_DATA)"
   ]
  },
  {
   "cell_type": "code",
   "execution_count": 24,
   "metadata": {},
   "outputs": [
    {
     "data": {
      "text/plain": [
       "'../../05_src/data/prices/'"
      ]
     },
     "execution_count": 24,
     "metadata": {},
     "output_type": "execute_result"
    }
   ],
   "source": [
    "PRICE_DATA"
   ]
  },
  {
   "cell_type": "code",
   "execution_count": 13,
   "metadata": {},
   "outputs": [
    {
     "data": {
      "text/plain": [
       "Index(['Date', 'Open', 'High', 'Low', 'Close', 'Adj Close', 'Volume', 'source',\n",
       "       'ticker'],\n",
       "      dtype='object')"
      ]
     },
     "execution_count": 13,
     "metadata": {},
     "output_type": "execute_result"
    }
   ],
   "source": [
    "stock_prices.columns"
   ]
  },
  {
   "cell_type": "code",
   "execution_count": null,
   "metadata": {},
   "outputs": [],
   "source": [
    "# create a ticket where we save files\n",
    "# files per folders\n",
    "\n",
    "# creating a data lake.The ordering - names and time. \n",
    "# \n",
    "\n",
    "for ticker in stock_prices['ticker'].unique():\n",
    "    ticker_dt = stock_prices[stock_prices['ticker'] == ticker] # subsetting, to get values for the value of ticker. \n",
    "    ticker_dt = ticker_dt.assign(Year = ticker_dt.Date.dt.year) # access method which give an access to a date function. \n",
    "    # variable = each year\n",
    "    for yr in ticker_dt['Year'].unique(): # iterations, with subsetting\n",
    "        yr_dd = dd.from_pandas(ticker_dt[ticker_dt['Year'] == yr],2)\n",
    "        yr_path = os.path.join(PRICE_DATA, ticker, f\"{ticker}_{yr}\")\n",
    "        os.makedirs(os.path.dirname(yr_path), exist_ok=True)\n",
    "        yr_dd.to_parquet(yr_path, engine = \"pyarrow\")\n",
    "    "
   ]
  },
  {
   "cell_type": "markdown",
   "metadata": {},
   "source": [
    "Why would we want to store data this way?\n",
    "\n",
    "+ Easier to maintain. We do not update old data, only recent data.\n",
    "+ We can also access all files as follows."
   ]
  },
  {
   "cell_type": "markdown",
   "metadata": {},
   "source": [
    "# Load, Transform and Save "
   ]
  },
  {
   "cell_type": "markdown",
   "metadata": {},
   "source": [
    "## Load\n",
    "\n",
    "+ Parquet files can be read individually or as a collection.\n",
    "+ `dd.read_parquet()` can take a list (collection) of files as input.\n",
    "+ Use `glob` to get the collection of files."
   ]
  },
  {
   "cell_type": "code",
   "execution_count": null,
   "metadata": {},
   "outputs": [],
   "source": [
    "# structing the file \n",
    "# it will show an empty file, the schema and no data.\n",
    "\n",
    "# glob = a search function, find the relative path to files. \n",
    "from glob import glob\n",
    "\n",
    "parquet_files = glob(os.path.join(PRICE_DATA, \"**/*.parquet\"), recursive = True)\n",
    "dd_px = dd.read_parquet(parquet_files).set_index(\"ticker\") # reads all parquat files in one seating. adding an index. "
   ]
  },
  {
   "cell_type": "code",
   "execution_count": null,
   "metadata": {},
   "outputs": [
    {
     "data": {
      "text/html": [
       "<div><strong>Dask DataFrame Structure:</strong></div>\n",
       "<div>\n",
       "<style scoped>\n",
       "    .dataframe tbody tr th:only-of-type {\n",
       "        vertical-align: middle;\n",
       "    }\n",
       "\n",
       "    .dataframe tbody tr th {\n",
       "        vertical-align: top;\n",
       "    }\n",
       "\n",
       "    .dataframe thead th {\n",
       "        text-align: right;\n",
       "    }\n",
       "</style>\n",
       "<table border=\"1\" class=\"dataframe\">\n",
       "  <thead>\n",
       "    <tr style=\"text-align: right;\">\n",
       "      <th></th>\n",
       "      <th>Date</th>\n",
       "      <th>Open</th>\n",
       "      <th>High</th>\n",
       "      <th>Low</th>\n",
       "      <th>Close</th>\n",
       "      <th>Adj Close</th>\n",
       "      <th>Volume</th>\n",
       "      <th>source</th>\n",
       "      <th>Year</th>\n",
       "    </tr>\n",
       "    <tr>\n",
       "      <th>npartitions=60</th>\n",
       "      <th></th>\n",
       "      <th></th>\n",
       "      <th></th>\n",
       "      <th></th>\n",
       "      <th></th>\n",
       "      <th></th>\n",
       "      <th></th>\n",
       "      <th></th>\n",
       "      <th></th>\n",
       "    </tr>\n",
       "  </thead>\n",
       "  <tbody>\n",
       "    <tr>\n",
       "      <th>A</th>\n",
       "      <td>datetime64[ns]</td>\n",
       "      <td>float64</td>\n",
       "      <td>float64</td>\n",
       "      <td>float64</td>\n",
       "      <td>float64</td>\n",
       "      <td>float64</td>\n",
       "      <td>float64</td>\n",
       "      <td>object</td>\n",
       "      <td>int32</td>\n",
       "    </tr>\n",
       "    <tr>\n",
       "      <th>ACB</th>\n",
       "      <td>...</td>\n",
       "      <td>...</td>\n",
       "      <td>...</td>\n",
       "      <td>...</td>\n",
       "      <td>...</td>\n",
       "      <td>...</td>\n",
       "      <td>...</td>\n",
       "      <td>...</td>\n",
       "      <td>...</td>\n",
       "    </tr>\n",
       "    <tr>\n",
       "      <th>...</th>\n",
       "      <td>...</td>\n",
       "      <td>...</td>\n",
       "      <td>...</td>\n",
       "      <td>...</td>\n",
       "      <td>...</td>\n",
       "      <td>...</td>\n",
       "      <td>...</td>\n",
       "      <td>...</td>\n",
       "      <td>...</td>\n",
       "    </tr>\n",
       "    <tr>\n",
       "      <th>ZEUS</th>\n",
       "      <td>...</td>\n",
       "      <td>...</td>\n",
       "      <td>...</td>\n",
       "      <td>...</td>\n",
       "      <td>...</td>\n",
       "      <td>...</td>\n",
       "      <td>...</td>\n",
       "      <td>...</td>\n",
       "      <td>...</td>\n",
       "    </tr>\n",
       "    <tr>\n",
       "      <th>ZEUS</th>\n",
       "      <td>...</td>\n",
       "      <td>...</td>\n",
       "      <td>...</td>\n",
       "      <td>...</td>\n",
       "      <td>...</td>\n",
       "      <td>...</td>\n",
       "      <td>...</td>\n",
       "      <td>...</td>\n",
       "      <td>...</td>\n",
       "    </tr>\n",
       "  </tbody>\n",
       "</table>\n",
       "</div>\n",
       "<div>Dask Name: sort_index, 8 graph layers</div>"
      ],
      "text/plain": [
       "Dask DataFrame Structure:\n",
       "                          Date     Open     High      Low    Close Adj Close   Volume  source   Year\n",
       "npartitions=60                                                                                      \n",
       "A               datetime64[ns]  float64  float64  float64  float64   float64  float64  object  int32\n",
       "ACB                        ...      ...      ...      ...      ...       ...      ...     ...    ...\n",
       "...                        ...      ...      ...      ...      ...       ...      ...     ...    ...\n",
       "ZEUS                       ...      ...      ...      ...      ...       ...      ...     ...    ...\n",
       "ZEUS                       ...      ...      ...      ...      ...       ...      ...     ...    ...\n",
       "Dask Name: sort_index, 8 graph layers"
      ]
     },
     "execution_count": 25,
     "metadata": {},
     "output_type": "execute_result"
    }
   ],
   "source": [
    "# build - lazy execution, execut just enough so the code can run.\n",
    "\n",
    "dd_px"
   ]
  },
  {
   "cell_type": "markdown",
   "metadata": {},
   "source": [
    "## Transform\n",
    "\n",
    "+ This transformation step will create a *Features* data set. In our case, features will be stock returns (we obtained prices).\n",
    "+ Dask dataframes work like pandas dataframes: in particular, we can perform groupby and apply operations.\n",
    "+ Notice the use of [an anonymous (lambda) function](https://realpython.com/python-lambda/) in the apply statement."
   ]
  },
  {
   "cell_type": "code",
   "execution_count": null,
   "metadata": {},
   "outputs": [
    {
     "name": "stderr",
     "output_type": "stream",
     "text": [
      "/var/folders/wy/v92nv28111j7vk4ynsyxm2700000gn/T/ipykernel_7069/550133602.py:3: UserWarning: `meta` is not specified, inferred from partial data. Please provide `meta` if the result is unexpected.\n",
      "  Before: .apply(func)\n",
      "  After:  .apply(func, meta={'x': 'f8', 'y': 'f8'}) for dataframe result\n",
      "  or:     .apply(func, meta=('x', 'f8'))            for series result\n",
      "  dd_shift = dd_px.groupby('ticker', group_keys=False).apply(\n"
     ]
    }
   ],
   "source": [
    "# apply transformation, that applies on the groups\n",
    "# % change of price, \n",
    "# .shift(1) - will shift by 1 indexes. \n",
    "# not mix up we group the data and apply \n",
    "\n",
    "dd_shift = dd_px.groupby('ticker', group_keys=False).apply(\n",
    "    lambda x: x.assign(Close_lag_1 = x['Close'].shift(1))\n",
    ")"
   ]
  },
  {
   "cell_type": "code",
   "execution_count": 17,
   "metadata": {},
   "outputs": [],
   "source": [
    "# result in a modified datafram but without any results\n",
    "\n",
    "dd_rets = dd_shift.assign(\n",
    "    Returns = lambda x: x['Close']/x['Close_lag_1'] - 1\n",
    ")"
   ]
  },
  {
   "cell_type": "markdown",
   "metadata": {},
   "source": [
    "## Lazy Exection\n",
    "\n",
    "What does `dd_rets` contain?"
   ]
  },
  {
   "cell_type": "code",
   "execution_count": 18,
   "metadata": {},
   "outputs": [
    {
     "data": {
      "text/html": [
       "<div><strong>Dask DataFrame Structure:</strong></div>\n",
       "<div>\n",
       "<style scoped>\n",
       "    .dataframe tbody tr th:only-of-type {\n",
       "        vertical-align: middle;\n",
       "    }\n",
       "\n",
       "    .dataframe tbody tr th {\n",
       "        vertical-align: top;\n",
       "    }\n",
       "\n",
       "    .dataframe thead th {\n",
       "        text-align: right;\n",
       "    }\n",
       "</style>\n",
       "<table border=\"1\" class=\"dataframe\">\n",
       "  <thead>\n",
       "    <tr style=\"text-align: right;\">\n",
       "      <th></th>\n",
       "      <th>Date</th>\n",
       "      <th>Open</th>\n",
       "      <th>High</th>\n",
       "      <th>Low</th>\n",
       "      <th>Close</th>\n",
       "      <th>Adj Close</th>\n",
       "      <th>Volume</th>\n",
       "      <th>source</th>\n",
       "      <th>Year</th>\n",
       "      <th>Close_lag_1</th>\n",
       "      <th>Returns</th>\n",
       "    </tr>\n",
       "    <tr>\n",
       "      <th>npartitions=60</th>\n",
       "      <th></th>\n",
       "      <th></th>\n",
       "      <th></th>\n",
       "      <th></th>\n",
       "      <th></th>\n",
       "      <th></th>\n",
       "      <th></th>\n",
       "      <th></th>\n",
       "      <th></th>\n",
       "      <th></th>\n",
       "      <th></th>\n",
       "    </tr>\n",
       "  </thead>\n",
       "  <tbody>\n",
       "    <tr>\n",
       "      <th>A</th>\n",
       "      <td>datetime64[ns]</td>\n",
       "      <td>float64</td>\n",
       "      <td>float64</td>\n",
       "      <td>float64</td>\n",
       "      <td>float64</td>\n",
       "      <td>float64</td>\n",
       "      <td>float64</td>\n",
       "      <td>object</td>\n",
       "      <td>int32</td>\n",
       "      <td>float64</td>\n",
       "      <td>float64</td>\n",
       "    </tr>\n",
       "    <tr>\n",
       "      <th>ACB</th>\n",
       "      <td>...</td>\n",
       "      <td>...</td>\n",
       "      <td>...</td>\n",
       "      <td>...</td>\n",
       "      <td>...</td>\n",
       "      <td>...</td>\n",
       "      <td>...</td>\n",
       "      <td>...</td>\n",
       "      <td>...</td>\n",
       "      <td>...</td>\n",
       "      <td>...</td>\n",
       "    </tr>\n",
       "    <tr>\n",
       "      <th>...</th>\n",
       "      <td>...</td>\n",
       "      <td>...</td>\n",
       "      <td>...</td>\n",
       "      <td>...</td>\n",
       "      <td>...</td>\n",
       "      <td>...</td>\n",
       "      <td>...</td>\n",
       "      <td>...</td>\n",
       "      <td>...</td>\n",
       "      <td>...</td>\n",
       "      <td>...</td>\n",
       "    </tr>\n",
       "    <tr>\n",
       "      <th>ZEUS</th>\n",
       "      <td>...</td>\n",
       "      <td>...</td>\n",
       "      <td>...</td>\n",
       "      <td>...</td>\n",
       "      <td>...</td>\n",
       "      <td>...</td>\n",
       "      <td>...</td>\n",
       "      <td>...</td>\n",
       "      <td>...</td>\n",
       "      <td>...</td>\n",
       "      <td>...</td>\n",
       "    </tr>\n",
       "    <tr>\n",
       "      <th>ZEUS</th>\n",
       "      <td>...</td>\n",
       "      <td>...</td>\n",
       "      <td>...</td>\n",
       "      <td>...</td>\n",
       "      <td>...</td>\n",
       "      <td>...</td>\n",
       "      <td>...</td>\n",
       "      <td>...</td>\n",
       "      <td>...</td>\n",
       "      <td>...</td>\n",
       "      <td>...</td>\n",
       "    </tr>\n",
       "  </tbody>\n",
       "</table>\n",
       "</div>\n",
       "<div>Dask Name: assign, 14 graph layers</div>"
      ],
      "text/plain": [
       "Dask DataFrame Structure:\n",
       "                          Date     Open     High      Low    Close Adj Close   Volume  source   Year Close_lag_1  Returns\n",
       "npartitions=60                                                                                                           \n",
       "A               datetime64[ns]  float64  float64  float64  float64   float64  float64  object  int32     float64  float64\n",
       "ACB                        ...      ...      ...      ...      ...       ...      ...     ...    ...         ...      ...\n",
       "...                        ...      ...      ...      ...      ...       ...      ...     ...    ...         ...      ...\n",
       "ZEUS                       ...      ...      ...      ...      ...       ...      ...     ...    ...         ...      ...\n",
       "ZEUS                       ...      ...      ...      ...      ...       ...      ...     ...    ...         ...      ...\n",
       "Dask Name: assign, 14 graph layers"
      ]
     },
     "execution_count": 18,
     "metadata": {},
     "output_type": "execute_result"
    }
   ],
   "source": [
    "dd_rets"
   ]
  },
  {
   "cell_type": "markdown",
   "metadata": {},
   "source": [
    "+ Dask is a lazy execution framework: commands will not execute until they are required. \n",
    "+ To trigger an execution in dask use `.compute()`."
   ]
  },
  {
   "cell_type": "code",
   "execution_count": 19,
   "metadata": {},
   "outputs": [
    {
     "data": {
      "text/html": [
       "<div>\n",
       "<style scoped>\n",
       "    .dataframe tbody tr th:only-of-type {\n",
       "        vertical-align: middle;\n",
       "    }\n",
       "\n",
       "    .dataframe tbody tr th {\n",
       "        vertical-align: top;\n",
       "    }\n",
       "\n",
       "    .dataframe thead th {\n",
       "        text-align: right;\n",
       "    }\n",
       "</style>\n",
       "<table border=\"1\" class=\"dataframe\">\n",
       "  <thead>\n",
       "    <tr style=\"text-align: right;\">\n",
       "      <th></th>\n",
       "      <th>Date</th>\n",
       "      <th>Open</th>\n",
       "      <th>High</th>\n",
       "      <th>Low</th>\n",
       "      <th>Close</th>\n",
       "      <th>Adj Close</th>\n",
       "      <th>Volume</th>\n",
       "      <th>source</th>\n",
       "      <th>Year</th>\n",
       "      <th>Close_lag_1</th>\n",
       "      <th>Returns</th>\n",
       "    </tr>\n",
       "    <tr>\n",
       "      <th>ticker</th>\n",
       "      <th></th>\n",
       "      <th></th>\n",
       "      <th></th>\n",
       "      <th></th>\n",
       "      <th></th>\n",
       "      <th></th>\n",
       "      <th></th>\n",
       "      <th></th>\n",
       "      <th></th>\n",
       "      <th></th>\n",
       "      <th></th>\n",
       "    </tr>\n",
       "  </thead>\n",
       "  <tbody>\n",
       "    <tr>\n",
       "      <th>A</th>\n",
       "      <td>1999-11-18</td>\n",
       "      <td>32.546494</td>\n",
       "      <td>35.765381</td>\n",
       "      <td>28.612303</td>\n",
       "      <td>31.473534</td>\n",
       "      <td>27.068665</td>\n",
       "      <td>62546300.0</td>\n",
       "      <td>A.csv</td>\n",
       "      <td>1999</td>\n",
       "      <td>NaN</td>\n",
       "      <td>NaN</td>\n",
       "    </tr>\n",
       "    <tr>\n",
       "      <th>A</th>\n",
       "      <td>1999-11-19</td>\n",
       "      <td>30.713520</td>\n",
       "      <td>30.758226</td>\n",
       "      <td>28.478184</td>\n",
       "      <td>28.880543</td>\n",
       "      <td>24.838577</td>\n",
       "      <td>15234100.0</td>\n",
       "      <td>A.csv</td>\n",
       "      <td>1999</td>\n",
       "      <td>31.473534</td>\n",
       "      <td>-0.082386</td>\n",
       "    </tr>\n",
       "    <tr>\n",
       "      <th>A</th>\n",
       "      <td>1999-11-22</td>\n",
       "      <td>29.551144</td>\n",
       "      <td>31.473534</td>\n",
       "      <td>28.657009</td>\n",
       "      <td>31.473534</td>\n",
       "      <td>27.068665</td>\n",
       "      <td>6577800.0</td>\n",
       "      <td>A.csv</td>\n",
       "      <td>1999</td>\n",
       "      <td>28.880543</td>\n",
       "      <td>0.089783</td>\n",
       "    </tr>\n",
       "    <tr>\n",
       "      <th>A</th>\n",
       "      <td>1999-11-23</td>\n",
       "      <td>30.400572</td>\n",
       "      <td>31.205294</td>\n",
       "      <td>28.612303</td>\n",
       "      <td>28.612303</td>\n",
       "      <td>24.607880</td>\n",
       "      <td>5975600.0</td>\n",
       "      <td>A.csv</td>\n",
       "      <td>1999</td>\n",
       "      <td>31.473534</td>\n",
       "      <td>-0.090909</td>\n",
       "    </tr>\n",
       "    <tr>\n",
       "      <th>A</th>\n",
       "      <td>1999-11-24</td>\n",
       "      <td>28.701717</td>\n",
       "      <td>29.998211</td>\n",
       "      <td>28.612303</td>\n",
       "      <td>29.372318</td>\n",
       "      <td>25.261524</td>\n",
       "      <td>4843200.0</td>\n",
       "      <td>A.csv</td>\n",
       "      <td>1999</td>\n",
       "      <td>28.612303</td>\n",
       "      <td>0.026563</td>\n",
       "    </tr>\n",
       "    <tr>\n",
       "      <th>...</th>\n",
       "      <td>...</td>\n",
       "      <td>...</td>\n",
       "      <td>...</td>\n",
       "      <td>...</td>\n",
       "      <td>...</td>\n",
       "      <td>...</td>\n",
       "      <td>...</td>\n",
       "      <td>...</td>\n",
       "      <td>...</td>\n",
       "      <td>...</td>\n",
       "      <td>...</td>\n",
       "    </tr>\n",
       "    <tr>\n",
       "      <th>ZEUS</th>\n",
       "      <td>2003-12-24</td>\n",
       "      <td>6.950000</td>\n",
       "      <td>7.000000</td>\n",
       "      <td>6.880000</td>\n",
       "      <td>6.990000</td>\n",
       "      <td>6.401954</td>\n",
       "      <td>10700.0</td>\n",
       "      <td>ZEUS.csv</td>\n",
       "      <td>2003</td>\n",
       "      <td>6.870000</td>\n",
       "      <td>0.017467</td>\n",
       "    </tr>\n",
       "    <tr>\n",
       "      <th>ZEUS</th>\n",
       "      <td>2003-12-26</td>\n",
       "      <td>7.000000</td>\n",
       "      <td>7.750000</td>\n",
       "      <td>6.800000</td>\n",
       "      <td>7.630000</td>\n",
       "      <td>6.988110</td>\n",
       "      <td>179300.0</td>\n",
       "      <td>ZEUS.csv</td>\n",
       "      <td>2003</td>\n",
       "      <td>6.990000</td>\n",
       "      <td>0.091559</td>\n",
       "    </tr>\n",
       "    <tr>\n",
       "      <th>ZEUS</th>\n",
       "      <td>2003-12-29</td>\n",
       "      <td>7.700000</td>\n",
       "      <td>8.500000</td>\n",
       "      <td>7.670000</td>\n",
       "      <td>8.200000</td>\n",
       "      <td>7.510161</td>\n",
       "      <td>221700.0</td>\n",
       "      <td>ZEUS.csv</td>\n",
       "      <td>2003</td>\n",
       "      <td>7.630000</td>\n",
       "      <td>0.074705</td>\n",
       "    </tr>\n",
       "    <tr>\n",
       "      <th>ZEUS</th>\n",
       "      <td>2003-12-30</td>\n",
       "      <td>8.000000</td>\n",
       "      <td>8.500000</td>\n",
       "      <td>8.000000</td>\n",
       "      <td>8.500000</td>\n",
       "      <td>7.784920</td>\n",
       "      <td>95600.0</td>\n",
       "      <td>ZEUS.csv</td>\n",
       "      <td>2003</td>\n",
       "      <td>8.200000</td>\n",
       "      <td>0.036585</td>\n",
       "    </tr>\n",
       "    <tr>\n",
       "      <th>ZEUS</th>\n",
       "      <td>2003-12-31</td>\n",
       "      <td>8.050000</td>\n",
       "      <td>8.490000</td>\n",
       "      <td>8.010000</td>\n",
       "      <td>8.210000</td>\n",
       "      <td>7.519320</td>\n",
       "      <td>55400.0</td>\n",
       "      <td>ZEUS.csv</td>\n",
       "      <td>2003</td>\n",
       "      <td>8.500000</td>\n",
       "      <td>-0.034118</td>\n",
       "    </tr>\n",
       "  </tbody>\n",
       "</table>\n",
       "<p>230273 rows × 11 columns</p>\n",
       "</div>"
      ],
      "text/plain": [
       "             Date       Open       High        Low      Close  Adj Close  \\\n",
       "ticker                                                                     \n",
       "A      1999-11-18  32.546494  35.765381  28.612303  31.473534  27.068665   \n",
       "A      1999-11-19  30.713520  30.758226  28.478184  28.880543  24.838577   \n",
       "A      1999-11-22  29.551144  31.473534  28.657009  31.473534  27.068665   \n",
       "A      1999-11-23  30.400572  31.205294  28.612303  28.612303  24.607880   \n",
       "A      1999-11-24  28.701717  29.998211  28.612303  29.372318  25.261524   \n",
       "...           ...        ...        ...        ...        ...        ...   \n",
       "ZEUS   2003-12-24   6.950000   7.000000   6.880000   6.990000   6.401954   \n",
       "ZEUS   2003-12-26   7.000000   7.750000   6.800000   7.630000   6.988110   \n",
       "ZEUS   2003-12-29   7.700000   8.500000   7.670000   8.200000   7.510161   \n",
       "ZEUS   2003-12-30   8.000000   8.500000   8.000000   8.500000   7.784920   \n",
       "ZEUS   2003-12-31   8.050000   8.490000   8.010000   8.210000   7.519320   \n",
       "\n",
       "            Volume    source  Year  Close_lag_1   Returns  \n",
       "ticker                                                     \n",
       "A       62546300.0     A.csv  1999          NaN       NaN  \n",
       "A       15234100.0     A.csv  1999    31.473534 -0.082386  \n",
       "A        6577800.0     A.csv  1999    28.880543  0.089783  \n",
       "A        5975600.0     A.csv  1999    31.473534 -0.090909  \n",
       "A        4843200.0     A.csv  1999    28.612303  0.026563  \n",
       "...            ...       ...   ...          ...       ...  \n",
       "ZEUS       10700.0  ZEUS.csv  2003     6.870000  0.017467  \n",
       "ZEUS      179300.0  ZEUS.csv  2003     6.990000  0.091559  \n",
       "ZEUS      221700.0  ZEUS.csv  2003     7.630000  0.074705  \n",
       "ZEUS       95600.0  ZEUS.csv  2003     8.200000  0.036585  \n",
       "ZEUS       55400.0  ZEUS.csv  2003     8.500000 -0.034118  \n",
       "\n",
       "[230273 rows x 11 columns]"
      ]
     },
     "execution_count": 19,
     "metadata": {},
     "output_type": "execute_result"
    }
   ],
   "source": [
    "dd_rets.compute()"
   ]
  },
  {
   "cell_type": "markdown",
   "metadata": {},
   "source": [
    "## Save\n",
    "\n",
    "+ Apply transformations to calculate daily returns\n",
    "+ Store the enriched data, the silver dataset, in a new directory.\n",
    "+ Should we keep the same namespace? All columns?"
   ]
  },
  {
   "cell_type": "code",
   "execution_count": null,
   "metadata": {},
   "outputs": [],
   "source": [
    "# CLean up before save\n",
    "FEATURES_DATA = os.getenv(\"FEATURES_DATA\")\n",
    "if os.path.exists(FEATURES_DATA):\n",
    "    shutil.rmtree(FEATURES_DATA)\n",
    "dd_rets.to_parquet(FEATURES_DATA, overwrite = True) # to store it and if anything in that lcoation we will ovrwrite \n"
   ]
  },
  {
   "cell_type": "markdown",
   "metadata": {},
   "source": [
    "# Optional: from Jupyter to Command Line\n",
    "\n",
    "+ We have drafted our code in a Jupyter Notebook. \n",
    "+ Finalized code should be written in Python modules.\n",
    "\n",
    "## Object Oriented vs Functional Programming\n",
    "\n",
    "+ We can use classes to keep parameters and functions together.\n",
    "+ We *could* use Object Oriented Programming, but parallelization of data manipulation and modelling tasks benefit from *Functional Programming*.\n",
    "+ An Idea: \n",
    "\n",
    "    - [Data Oriented Programming](https://blog.klipse.tech/dop/2022/06/22/principles-of-dop.html).\n",
    "    - Use the class to bundle together parameters and functions.\n",
    "    - Use stateless operations and treat all data objects as immutable (we do not modify them, we overwrite them).\n",
    "    - Take advantage of [`@staticmethod`](https://realpython.com/instance-class-and-static-methods-demystified/).\n",
    "\n",
    "The code is in `./05_src/stock_prices/data_manager.py`."
   ]
  },
  {
   "cell_type": "markdown",
   "metadata": {},
   "source": [
    "Our original design was:\n",
    "\n",
    "![](./images/02_target_pipeline_manager.png)\n",
    "\n"
   ]
  },
  {
   "cell_type": "code",
   "execution_count": 21,
   "metadata": {},
   "outputs": [],
   "source": [
    "from stock_prices.data_manager import DataManager\n",
    "dm = DataManager()"
   ]
  },
  {
   "cell_type": "markdown",
   "metadata": {},
   "source": [
    "Download all prices."
   ]
  },
  {
   "cell_type": "code",
   "execution_count": 26,
   "metadata": {},
   "outputs": [
    {
     "data": {
      "text/plain": [
       "<stock_prices.data_manager.DataManager at 0x1abaf9070>"
      ]
     },
     "execution_count": 26,
     "metadata": {},
     "output_type": "execute_result"
    }
   ],
   "source": [
    "dm"
   ]
  },
  {
   "cell_type": "code",
   "execution_count": 22,
   "metadata": {},
   "outputs": [
    {
     "name": "stderr",
     "output_type": "stream",
     "text": [
      "2025-09-25 18:16:55,229, data_manager.py, 53, INFO, Processing sample of tickers\n",
      "2025-09-25 18:16:55,230, data_manager.py, 64, INFO, Getting file list from ../../05_src/data/prices_csv/\n",
      "2025-09-25 18:16:55,240, data_manager.py, 66, INFO, Found 5884 files in ../../05_src/data/prices/\n",
      "2025-09-25 18:16:55,240, data_manager.py, 74, INFO, Selecting sample of files\n",
      "2025-09-25 18:16:55,241, data_manager.py, 80, INFO, Selected 30 files\n",
      "2025-09-25 18:16:55,241, data_manager.py, 90, INFO, Processing file ../../05_src/data/prices_csv/stocks/VAM.csv\n",
      "2025-09-25 18:16:55,242, data_manager.py, 118, INFO, Reading file: ../../05_src/data/prices_csv/stocks/VAM.csv\n",
      "2025-09-25 18:16:55,245, data_manager.py, 101, INFO, Saving data by year\n",
      "2025-09-25 18:16:55,271, data_manager.py, 90, INFO, Processing file ../../05_src/data/prices_csv/stocks/BCS.csv\n",
      "2025-09-25 18:16:55,271, data_manager.py, 118, INFO, Reading file: ../../05_src/data/prices_csv/stocks/BCS.csv\n",
      "2025-09-25 18:16:55,279, data_manager.py, 101, INFO, Saving data by year\n",
      "2025-09-25 18:16:55,544, data_manager.py, 90, INFO, Processing file ../../05_src/data/prices_csv/stocks/TS.csv\n",
      "2025-09-25 18:16:55,544, data_manager.py, 118, INFO, Reading file: ../../05_src/data/prices_csv/stocks/TS.csv\n",
      "2025-09-25 18:16:55,549, data_manager.py, 101, INFO, Saving data by year\n",
      "2025-09-25 18:16:55,691, data_manager.py, 90, INFO, Processing file ../../05_src/data/prices_csv/stocks/GNCA.csv\n",
      "2025-09-25 18:16:55,691, data_manager.py, 118, INFO, Reading file: ../../05_src/data/prices_csv/stocks/GNCA.csv\n",
      "2025-09-25 18:16:55,694, data_manager.py, 101, INFO, Saving data by year\n",
      "2025-09-25 18:16:55,748, data_manager.py, 90, INFO, Processing file ../../05_src/data/prices_csv/stocks/SO.csv\n",
      "2025-09-25 18:16:55,749, data_manager.py, 118, INFO, Reading file: ../../05_src/data/prices_csv/stocks/SO.csv\n",
      "2025-09-25 18:16:55,757, data_manager.py, 101, INFO, Saving data by year\n",
      "2025-09-25 18:16:56,054, data_manager.py, 90, INFO, Processing file ../../05_src/data/prices_csv/stocks/TBLT.csv\n",
      "2025-09-25 18:16:56,055, data_manager.py, 118, INFO, Reading file: ../../05_src/data/prices_csv/stocks/TBLT.csv\n",
      "2025-09-25 18:16:56,057, data_manager.py, 101, INFO, Saving data by year\n",
      "2025-09-25 18:16:56,080, data_manager.py, 90, INFO, Processing file ../../05_src/data/prices_csv/stocks/AIW.csv\n",
      "2025-09-25 18:16:56,081, data_manager.py, 118, INFO, Reading file: ../../05_src/data/prices_csv/stocks/AIW.csv\n",
      "2025-09-25 18:16:56,084, data_manager.py, 101, INFO, Saving data by year\n",
      "2025-09-25 18:16:56,146, data_manager.py, 90, INFO, Processing file ../../05_src/data/prices_csv/stocks/JJSF.csv\n",
      "2025-09-25 18:16:56,146, data_manager.py, 118, INFO, Reading file: ../../05_src/data/prices_csv/stocks/JJSF.csv\n",
      "2025-09-25 18:16:56,154, data_manager.py, 101, INFO, Saving data by year\n",
      "2025-09-25 18:16:56,414, data_manager.py, 90, INFO, Processing file ../../05_src/data/prices_csv/stocks/DAL.csv\n",
      "2025-09-25 18:16:56,414, data_manager.py, 118, INFO, Reading file: ../../05_src/data/prices_csv/stocks/DAL.csv\n",
      "2025-09-25 18:16:56,419, data_manager.py, 101, INFO, Saving data by year\n",
      "2025-09-25 18:16:56,525, data_manager.py, 90, INFO, Processing file ../../05_src/data/prices_csv/stocks/RZB.csv\n",
      "2025-09-25 18:16:56,526, data_manager.py, 118, INFO, Reading file: ../../05_src/data/prices_csv/stocks/RZB.csv\n",
      "2025-09-25 18:16:56,528, data_manager.py, 101, INFO, Saving data by year\n",
      "2025-09-25 18:16:56,567, data_manager.py, 90, INFO, Processing file ../../05_src/data/prices_csv/stocks/AWP.csv\n",
      "2025-09-25 18:16:56,567, data_manager.py, 118, INFO, Reading file: ../../05_src/data/prices_csv/stocks/AWP.csv\n",
      "2025-09-25 18:16:56,572, data_manager.py, 101, INFO, Saving data by year\n",
      "2025-09-25 18:16:56,676, data_manager.py, 90, INFO, Processing file ../../05_src/data/prices_csv/stocks/JP.csv\n",
      "2025-09-25 18:16:56,676, data_manager.py, 118, INFO, Reading file: ../../05_src/data/prices_csv/stocks/JP.csv\n",
      "2025-09-25 18:16:56,679, data_manager.py, 101, INFO, Saving data by year\n",
      "2025-09-25 18:16:56,724, data_manager.py, 90, INFO, Processing file ../../05_src/data/prices_csv/stocks/WOR.csv\n",
      "2025-09-25 18:16:56,724, data_manager.py, 118, INFO, Reading file: ../../05_src/data/prices_csv/stocks/WOR.csv\n",
      "2025-09-25 18:16:56,734, data_manager.py, 101, INFO, Saving data by year\n",
      "2025-09-25 18:16:57,038, data_manager.py, 90, INFO, Processing file ../../05_src/data/prices_csv/stocks/CODI.csv\n",
      "2025-09-25 18:16:57,039, data_manager.py, 118, INFO, Reading file: ../../05_src/data/prices_csv/stocks/CODI.csv\n",
      "2025-09-25 18:16:57,044, data_manager.py, 101, INFO, Saving data by year\n",
      "2025-09-25 18:16:57,158, data_manager.py, 90, INFO, Processing file ../../05_src/data/prices_csv/stocks/EFC.csv\n",
      "2025-09-25 18:16:57,158, data_manager.py, 118, INFO, Reading file: ../../05_src/data/prices_csv/stocks/EFC.csv\n",
      "2025-09-25 18:16:57,162, data_manager.py, 101, INFO, Saving data by year\n",
      "2025-09-25 18:16:57,244, data_manager.py, 90, INFO, Processing file ../../05_src/data/prices_csv/stocks/ADXS.csv\n",
      "2025-09-25 18:16:57,245, data_manager.py, 118, INFO, Reading file: ../../05_src/data/prices_csv/stocks/ADXS.csv\n",
      "2025-09-25 18:16:57,248, data_manager.py, 101, INFO, Saving data by year\n",
      "2025-09-25 18:16:57,371, data_manager.py, 90, INFO, Processing file ../../05_src/data/prices_csv/stocks/ESLT.csv\n",
      "2025-09-25 18:16:57,372, data_manager.py, 118, INFO, Reading file: ../../05_src/data/prices_csv/stocks/ESLT.csv\n",
      "2025-09-25 18:16:57,378, data_manager.py, 101, INFO, Saving data by year\n",
      "2025-09-25 18:16:57,567, data_manager.py, 90, INFO, Processing file ../../05_src/data/prices_csv/stocks/VVI.csv\n",
      "2025-09-25 18:16:57,567, data_manager.py, 118, INFO, Reading file: ../../05_src/data/prices_csv/stocks/VVI.csv\n",
      "2025-09-25 18:16:57,572, data_manager.py, 101, INFO, Saving data by year\n",
      "2025-09-25 18:16:57,699, data_manager.py, 90, INFO, Processing file ../../05_src/data/prices_csv/stocks/DCUE.csv\n",
      "2025-09-25 18:16:57,700, data_manager.py, 118, INFO, Reading file: ../../05_src/data/prices_csv/stocks/DCUE.csv\n",
      "2025-09-25 18:16:57,702, data_manager.py, 101, INFO, Saving data by year\n",
      "2025-09-25 18:16:57,718, data_manager.py, 90, INFO, Processing file ../../05_src/data/prices_csv/stocks/SCM.csv\n",
      "2025-09-25 18:16:57,718, data_manager.py, 118, INFO, Reading file: ../../05_src/data/prices_csv/stocks/SCM.csv\n",
      "2025-09-25 18:16:57,721, data_manager.py, 101, INFO, Saving data by year\n",
      "2025-09-25 18:16:57,790, data_manager.py, 90, INFO, Processing file ../../05_src/data/prices_csv/stocks/LNN.csv\n",
      "2025-09-25 18:16:57,791, data_manager.py, 118, INFO, Reading file: ../../05_src/data/prices_csv/stocks/LNN.csv\n",
      "2025-09-25 18:16:57,798, data_manager.py, 101, INFO, Saving data by year\n",
      "2025-09-25 18:16:58,075, data_manager.py, 90, INFO, Processing file ../../05_src/data/prices_csv/stocks/CYOU.csv\n",
      "2025-09-25 18:16:58,076, data_manager.py, 118, INFO, Reading file: ../../05_src/data/prices_csv/stocks/CYOU.csv\n",
      "2025-09-25 18:16:58,080, data_manager.py, 101, INFO, Saving data by year\n",
      "2025-09-25 18:16:58,172, data_manager.py, 90, INFO, Processing file ../../05_src/data/prices_csv/stocks/MICR.csv\n",
      "2025-09-25 18:16:58,172, data_manager.py, 118, INFO, Reading file: ../../05_src/data/prices_csv/stocks/MICR.csv\n",
      "2025-09-25 18:16:58,179, data_manager.py, 101, INFO, Saving data by year\n",
      "2025-09-25 18:16:58,400, data_manager.py, 90, INFO, Processing file ../../05_src/data/prices_csv/stocks/JJN.csv\n",
      "2025-09-25 18:16:58,401, data_manager.py, 118, INFO, Reading file: ../../05_src/data/prices_csv/stocks/JJN.csv\n",
      "2025-09-25 18:16:58,405, data_manager.py, 101, INFO, Saving data by year\n",
      "2025-09-25 18:16:58,510, data_manager.py, 90, INFO, Processing file ../../05_src/data/prices_csv/stocks/ETSY.csv\n",
      "2025-09-25 18:16:58,510, data_manager.py, 118, INFO, Reading file: ../../05_src/data/prices_csv/stocks/ETSY.csv\n",
      "2025-09-25 18:16:58,513, data_manager.py, 101, INFO, Saving data by year\n",
      "2025-09-25 18:16:58,561, data_manager.py, 90, INFO, Processing file ../../05_src/data/prices_csv/stocks/PMD.csv\n",
      "2025-09-25 18:16:58,561, data_manager.py, 118, INFO, Reading file: ../../05_src/data/prices_csv/stocks/PMD.csv\n",
      "2025-09-25 18:16:58,570, data_manager.py, 101, INFO, Saving data by year\n",
      "2025-09-25 18:16:58,825, data_manager.py, 90, INFO, Processing file ../../05_src/data/prices_csv/stocks/EXG.csv\n",
      "2025-09-25 18:16:58,825, data_manager.py, 118, INFO, Reading file: ../../05_src/data/prices_csv/stocks/EXG.csv\n",
      "2025-09-25 18:16:58,831, data_manager.py, 101, INFO, Saving data by year\n",
      "2025-09-25 18:16:58,935, data_manager.py, 90, INFO, Processing file ../../05_src/data/prices_csv/stocks/NSSC.csv\n",
      "2025-09-25 18:16:58,935, data_manager.py, 118, INFO, Reading file: ../../05_src/data/prices_csv/stocks/NSSC.csv\n",
      "2025-09-25 18:16:58,944, data_manager.py, 101, INFO, Saving data by year\n",
      "2025-09-25 18:16:59,244, data_manager.py, 90, INFO, Processing file ../../05_src/data/prices_csv/stocks/OXY.csv\n",
      "2025-09-25 18:16:59,245, data_manager.py, 118, INFO, Reading file: ../../05_src/data/prices_csv/stocks/OXY.csv\n",
      "2025-09-25 18:16:59,254, data_manager.py, 101, INFO, Saving data by year\n",
      "2025-09-25 18:16:59,549, data_manager.py, 90, INFO, Processing file ../../05_src/data/prices_csv/stocks/SPSC.csv\n",
      "2025-09-25 18:16:59,549, data_manager.py, 118, INFO, Reading file: ../../05_src/data/prices_csv/stocks/SPSC.csv\n",
      "2025-09-25 18:16:59,553, data_manager.py, 101, INFO, Saving data by year\n"
     ]
    }
   ],
   "source": [
    "dm.process_sample_files()"
   ]
  },
  {
   "cell_type": "markdown",
   "metadata": {},
   "source": [
    "Finally, add features to the data set and save to a *feature store*."
   ]
  },
  {
   "cell_type": "code",
   "execution_count": 23,
   "metadata": {},
   "outputs": [
    {
     "name": "stderr",
     "output_type": "stream",
     "text": [
      "2025-09-25 18:16:59,653, data_manager.py, 131, INFO, Creating features data.\n",
      "2025-09-25 18:16:59,654, data_manager.py, 141, INFO, Loading price data from ../../05_src/data/prices/\n",
      "2025-09-25 18:17:08,947, data_manager.py, 150, INFO, Creating features\n",
      "/Users/olga/DSI/production/01_materials/labs/../../05_src/stock_prices/data_manager.py:153: UserWarning: `meta` is not specified, inferred from partial data. Please provide `meta` if the result is unexpected.\n",
      "  Before: .apply(func)\n",
      "  After:  .apply(func, meta={'x': 'f8', 'y': 'f8'}) for dataframe result\n",
      "  or:     .apply(func, meta=('x', 'f8'))            for series result\n",
      "  features = (price_dd.groupby('ticker', group_keys=False)\n",
      "2025-09-25 18:17:08,952, data_manager.py, 175, INFO, Saving features to ../../05_src/data/features/stock_features\n"
     ]
    }
   ],
   "source": [
    "dm.featurize()"
   ]
  }
 ],
 "metadata": {
  "kernelspec": {
   "display_name": "dsi_participant",
   "language": "python",
   "name": "python3"
  },
  "language_info": {
   "codemirror_mode": {
    "name": "ipython",
    "version": 3
   },
   "file_extension": ".py",
   "mimetype": "text/x-python",
   "name": "python",
   "nbconvert_exporter": "python",
   "pygments_lexer": "ipython3",
   "version": "3.9.18"
  }
 },
 "nbformat": 4,
 "nbformat_minor": 2
}
